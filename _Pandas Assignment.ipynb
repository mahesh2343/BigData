{
 "cells": [
  {
   "cell_type": "markdown",
   "id": "0f692e61",
   "metadata": {},
   "source": [
    "Q1. How do you load a CSV file into a Pandas DataFrame?\n",
    "\n",
    "Ans. First of all we need to install Pandas by \"pip\",\n",
    "\n",
    "df = pd.read_csv(\"filePath\")"
   ]
  },
  {
   "cell_type": "markdown",
   "id": "a98e7ca9",
   "metadata": {},
   "source": [
    "Q2. How do you check the data type of a column in a Pandas DataFrame?\n",
    "\n",
    "Ans. by using the dtype we can check the data types of column."
   ]
  },
  {
   "cell_type": "markdown",
   "id": "3fee1847",
   "metadata": {},
   "source": [
    "Q3. How do you select rows from a Pandas DataFrame based on a condition?\n",
    "\n",
    "Ans. Simply we can do that with the help of boolean indexing.\n",
    "\n",
    "eg. selected_rows = df[df['column_name'] > 100]\n",
    "    selected_rows = df[(df['column1'] > 10) & (df['column2'] < 5)]"
   ]
  },
  {
   "cell_type": "markdown",
   "id": "3616d133",
   "metadata": {},
   "source": [
    "Q4. How do you rename columns in a Pandas DataFrame?\n",
    "\n",
    "Ans. by using the rename() method we can simpli achive that."
   ]
  },
  {
   "cell_type": "markdown",
   "id": "04593530",
   "metadata": {},
   "source": [
    "Q5. How do you drop columns in a Pandas DataFrame?\n",
    "\n",
    "Ans. by drop method,\n",
    "eg. columns_to_drop = ['column_name1', 'column_name2', ...]"
   ]
  },
  {
   "cell_type": "markdown",
   "id": "4e684a87",
   "metadata": {},
   "source": [
    "Q6. How do you find the unique values in a column of a Pandas DataFrame?\n",
    "\n",
    "Ans. by using following, unique_values = df['column_name'].unique()"
   ]
  },
  {
   "cell_type": "markdown",
   "id": "a004d18c",
   "metadata": {},
   "source": [
    "Q7. How do you find the number of missing values in each column of a Pandas DataFrame?\n",
    "\n",
    "Ans. To find the number of missing values in each column of a Pandas DataFrame, you can use the isnull() method to identify missing values and then use the sum() method to count the occurrences of missing values for each column."
   ]
  },
  {
   "cell_type": "markdown",
   "id": "d49a66a1",
   "metadata": {},
   "source": [
    "Q8. How do you fill missing values in a Pandas DataFrame with a specific value?\n",
    "\n",
    "Ans. You can fill missing values in a Pandas DataFrame with a specific value using the fillna() method"
   ]
  },
  {
   "cell_type": "markdown",
   "id": "5dfc398b",
   "metadata": {},
   "source": [
    "Q9. How do you concatenate two Pandas DataFrames?\n",
    "\n",
    "Ans. You can concatenate two Pandas DataFrames using the concat() function. The concat() function allows you to combine DataFrames either vertically (along rows) or horizontally (along columns), depending on the axis parameter."
   ]
  },
  {
   "cell_type": "markdown",
   "id": "2b682140",
   "metadata": {},
   "source": [
    "Q10. How do you merge two Pandas DataFrames on a specific column?\n",
    "\n",
    "Ans. You can merge two Pandas DataFrames on a specific column using the merge() function. The merge() function allows you to combine DataFrames based on common columns or indices, similar to how SQL joins work.\n",
    "\n",
    "\n",
    "\n",
    "Eg. merged_df = pd.merge(df1, df2, on='common_column'), By giving condition."
   ]
  },
  {
   "cell_type": "markdown",
   "id": "ccd160c2",
   "metadata": {},
   "source": [
    "Q11. How do you group data in a Pandas DataFrame by a specific column and apply an aggregation function?\n",
    "\n",
    "Ans. We can group data in a Pandas DataFrame by a specific column using the groupby() method and then apply an aggregation function to calculate summary statistics or perform other operations on the grouped data."
   ]
  },
  {
   "cell_type": "markdown",
   "id": "1b00b7e5",
   "metadata": {},
   "source": [
    "Q12. How do you pivot a Pandas DataFrame?\n",
    "\n",
    "Ans. You can pivot a Pandas DataFrame using the pivot() method. Pivoting reshapes the DataFrame by transforming unique values from one column into new columns, and it can be useful when you want to convert long-format data into a wide-format representation."
   ]
  },
  {
   "cell_type": "markdown",
   "id": "829a641c",
   "metadata": {},
   "source": [
    "Q13. How do you change the data type of a column in a Pandas DataFrame?\n",
    "\n",
    "Ans. You can change the data type of a column in a Pandas DataFrame using the astype() method or other specific conversion functions depending on the type of conversion you need."
   ]
  },
  {
   "cell_type": "markdown",
   "id": "00bc4399",
   "metadata": {},
   "source": [
    "Q14. How do you sort a Pandas DataFrame by a specific column?\n",
    "\n",
    "Ans. You can sort a Pandas DataFrame by a specific column using the sort_values() method. The sort_values() method allows you to sort the DataFrame based on one or more columns in either ascending or descending order."
   ]
  },
  {
   "cell_type": "markdown",
   "id": "f1f012d6",
   "metadata": {},
   "source": [
    "Q15. How do you create a copy of a Pandas DataFrame?\n",
    "\n",
    "Ans. To create a copy of a Pandas DataFrame, you can use the copy() method. The copy() method creates a new DataFrame with the same data and index as the original DataFrame. This is useful when you want to make changes to a DataFrame without modifying the original one."
   ]
  },
  {
   "cell_type": "markdown",
   "id": "acd1cda5",
   "metadata": {},
   "source": [
    "Q16. How do you filter rows of a Pandas DataFrame by multiple conditions?\n",
    "\n",
    "Ans. You can filter rows of a Pandas DataFrame by multiple conditions using logical operators like & (and) and | (or). To do this, you enclose each condition in parentheses and combine them using these logical operators."
   ]
  },
  {
   "cell_type": "markdown",
   "id": "aa7a694b",
   "metadata": {},
   "source": [
    "Q17. How do you calculate the mean of a column in a Pandas DataFrame?\n",
    "\n",
    "Ans. You can calculate the mean of a column in a Pandas DataFrame using the mean() method. The mean() method calculates the average value of the numeric data in the specified column."
   ]
  },
  {
   "cell_type": "markdown",
   "id": "4a45197d",
   "metadata": {},
   "source": [
    "Q18. How do you calculate the standard deviation of a column in a Pandas DataFrame?\n",
    "\n",
    "Ans. You can calculate the standard deviation of a column in a Pandas DataFrame using the std() method. The std() method computes the standard deviation of the numeric data in the specified column."
   ]
  },
  {
   "cell_type": "markdown",
   "id": "cd6e2846",
   "metadata": {},
   "source": [
    "Q19. How do you calculate the correlation between two columns in a Pandas DataFrame?\n",
    "\n",
    "Ans. using the corr() method."
   ]
  },
  {
   "cell_type": "markdown",
   "id": "135de831",
   "metadata": {},
   "source": [
    "Q20. How do you select specific columns in a DataFrame using their labels?\n",
    "\n",
    "Ans. selected_columns_df = df[['column_label1', 'column_label2', ...]]"
   ]
  },
  {
   "cell_type": "markdown",
   "id": "8b4e1057",
   "metadata": {},
   "source": [
    "Q21. How do you select specific rows in a DataFrame using their indexes?\n",
    "\n",
    "Ans. You can select specific rows in a Pandas DataFrame using their indexes by using the loc indexer or the iloc indexer. The choice between loc and iloc depends on whether you want to select rows by their label-based index or integer-based position."
   ]
  },
  {
   "cell_type": "markdown",
   "id": "7ea2a01d",
   "metadata": {},
   "source": [
    "Q22. How do you sort a DataFrame by a specific column?\n",
    "\n",
    "Ans. We can sort a Pandas DataFrame by a specific column using the sort_values() method. The sort_values() method allows you to sort the DataFrame based on the values in one or more columns."
   ]
  },
  {
   "cell_type": "markdown",
   "id": "2a5d33c9",
   "metadata": {},
   "source": [
    "Q23. How do you create a new column in a DataFrame based on the values of another column?\n",
    "\n",
    "Ans. You can create a new column in a Pandas DataFrame based on the values of another column by simply assigning the desired values or applying a function to the existing column. This is similar to how you create a new key-value pair in a dictionary."
   ]
  },
  {
   "cell_type": "markdown",
   "id": "46f4d858",
   "metadata": {},
   "source": [
    "Q24. How do you remove duplicates from a DataFrame?\n",
    "\n",
    "Ans. By using the drop_duplicates() method.\n",
    "\n",
    "Eg. df.drop_duplicates()"
   ]
  },
  {
   "cell_type": "markdown",
   "id": "ecef237e",
   "metadata": {},
   "source": [
    "Q25. What is the difference between .loc and .iloc in Pandas?\n",
    "\n",
    "Ans. .loc is label-based indexing, using row and column labels, while .iloc is integer-based indexing, using row and column positions.\n",
    "\n",
    ".loc selects data by explicitly specifying row and column labels (e.g., 'A', 'B', 'X', 'Y'), while .iloc selects data by specifying integer positions (0, 1, 2, etc.)."
   ]
  },
  {
   "cell_type": "code",
   "execution_count": null,
   "id": "34335a7b",
   "metadata": {},
   "outputs": [],
   "source": []
  },
  {
   "cell_type": "code",
   "execution_count": null,
   "id": "807158cf",
   "metadata": {},
   "outputs": [],
   "source": []
  },
  {
   "cell_type": "code",
   "execution_count": null,
   "id": "e5aa3763",
   "metadata": {},
   "outputs": [],
   "source": []
  },
  {
   "cell_type": "code",
   "execution_count": null,
   "id": "82edf8df",
   "metadata": {},
   "outputs": [],
   "source": []
  },
  {
   "cell_type": "code",
   "execution_count": null,
   "id": "9f16f6dc",
   "metadata": {},
   "outputs": [],
   "source": []
  }
 ],
 "metadata": {
  "kernelspec": {
   "display_name": "Python 3",
   "language": "python",
   "name": "python3"
  },
  "language_info": {
   "codemirror_mode": {
    "name": "ipython",
    "version": 3
   },
   "file_extension": ".py",
   "mimetype": "text/x-python",
   "name": "python",
   "nbconvert_exporter": "python",
   "pygments_lexer": "ipython3",
   "version": "3.8.8"
  }
 },
 "nbformat": 4,
 "nbformat_minor": 5
}
