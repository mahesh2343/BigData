{
 "cells": [
  {
   "cell_type": "markdown",
   "id": "badc83ca",
   "metadata": {},
   "source": [
    "# Assignment Part-1"
   ]
  },
  {
   "cell_type": "markdown",
   "id": "38f9ee58",
   "metadata": {},
   "source": [
    "Q1. Why do we call Python as a general purpose and high-level programming language? \n",
    "\n",
    "Ans : 1.Python is first of all very simple lang. So that we can use this for creating the variety of apps and programms. And any one can use this lang.\n",
    "2.Unlike to the other languages, its very simple and human readable, so thats its high level lang.\n"
   ]
  },
  {
   "cell_type": "markdown",
   "id": "545a8ecb",
   "metadata": {},
   "source": [
    "Q2. Why is Python called a dynamically typed language?\n",
    "Ans: In the dynamically typed lang. we dont declare the type of variable(like int, str, float) and as well as we dont manage the momery(like java and C). "
   ]
  },
  {
   "cell_type": "markdown",
   "id": "75347d71",
   "metadata": {},
   "source": [
    "Q3. List some pros and cons of Python programming language?\n",
    "Ans: As we know that, 1.python is the dynamically typed laang. so its makes very easy to developer type the code. 2.Now a days most the data science and realated branches are using it because it has vast set of labrary. 3. Its free and open source lang.\n",
    "\n",
    "Cons: 1. as it is the dyanamically typed lang., some time it throws some run time errors. 2. Its slow lang. because of the dyanamically typed lang. because it has to works line by line and understand the all the code( so time consuming)."
   ]
  },
  {
   "cell_type": "markdown",
   "id": "b9545639",
   "metadata": {},
   "source": [
    "Q4. In what all domains can we use Python?\n",
    "Ans: 1. Data science stream is using the most advantage of Python(coz its easy)\n",
    "2. AI and Machine learing\n",
    "3. Data Analytics.\n",
    "4. Data visualisation.\n",
    "5. Programming."
   ]
  },
  {
   "cell_type": "markdown",
   "id": "cce590b7",
   "metadata": {},
   "source": [
    "Q5. What are variable and how can we declare them?\n",
    "Ans: Variable - A variable is a name for the given object( varibles are the containers for storing data values). When we assign a value to the variable, this is the way to declaire the varible(ex. a = 10; , b = 30)"
   ]
  },
  {
   "cell_type": "markdown",
   "id": "a057874c",
   "metadata": {},
   "source": [
    "Q6. How can we take an input from the user in Python? \n",
    "Ans: We have to just type the function \"input\" in the line (while typing the programm) ex. \n",
    "\n",
    "a = int(input(\"Enter the no.\"))"
   ]
  },
  {
   "cell_type": "markdown",
   "id": "a17e7852",
   "metadata": {},
   "source": [
    "Q7. What is the default datatype of the value that has been taken as an input using input() function?\n",
    "Ans: String data type."
   ]
  },
  {
   "cell_type": "markdown",
   "id": "bc3b88d7",
   "metadata": {},
   "source": [
    "Q8. What is type casting?\n",
    "Ans: Type casting is the process of changing the data type. we can convert a specific data type in a desired data type ( ex p = int(2.8), b= str(2))\n"
   ]
  },
  {
   "cell_type": "markdown",
   "id": "1ffeaa5e",
   "metadata": {},
   "source": [
    "Q9. Can we take more than one input from the user using single input() function? If yes, how? If no, why?\n",
    "Ans: Yes, we can take the multiple inputs with the help of splite function."
   ]
  },
  {
   "cell_type": "markdown",
   "id": "a9c55325",
   "metadata": {},
   "source": [
    "Q10. What are keywords?\n",
    "Ans: Key words are the reserved words and it has some defined work to do."
   ]
  },
  {
   "cell_type": "markdown",
   "id": "9784dbe5",
   "metadata": {},
   "source": [
    "Q11. Can we use keywords as a variable? Support your answer with reason.\n",
    "Ans: No we can't use keywords as variable because every keyword has some special meaning(Assigned work) with it. so we cant use. (ex. and, or, continue)"
   ]
  },
  {
   "cell_type": "markdown",
   "id": "6d99f55f",
   "metadata": {},
   "source": [
    "Q12. What is indentation? What's the use of indentaion in Python?\n",
    "Ans: Indentation in python is very important, if you miss the indentation the whole code will throw error. Indentatio specifiys the specific block of code."
   ]
  },
  {
   "cell_type": "markdown",
   "id": "78c21da2",
   "metadata": {},
   "source": [
    "Q13. How can we throw some output in Python?\n",
    "Ans: Once we assigned a variable, then by using the print() function we can give the output. and for string we can use this(print(\"adjfj\")."
   ]
  },
  {
   "cell_type": "markdown",
   "id": "e45558fa",
   "metadata": {},
   "source": [
    "Q14. What are operators in Python?\n",
    "Ans: If we have to do some operations on variables and values we have to use operators.(ex. Arithmetic ops, Assignment ops. comparison ops, logical ops.)"
   ]
  },
  {
   "cell_type": "markdown",
   "id": "1da02f4a",
   "metadata": {},
   "source": [
    "Q15. What is difference between / and // operators?\n",
    "Ans: "
   ]
  },
  {
   "cell_type": "markdown",
   "id": "eb138a66",
   "metadata": {},
   "source": [
    "Ans: \"/\" this one is the general dovission sign (dont round up the ans.)\n",
    "\"//\" this one is the floor division sign used to for rounding up the ans.to the nearest one."
   ]
  },
  {
   "cell_type": "code",
   "execution_count": null,
   "id": "7de6eca2",
   "metadata": {},
   "outputs": [],
   "source": [
    "# For printing iNeuron\n",
    "\n",
    "print(\"iNeuroniNeuroniNeuron\");"
   ]
  },
  {
   "cell_type": "code",
   "execution_count": null,
   "id": "fd740188",
   "metadata": {},
   "outputs": [],
   "source": [
    "# For printing iNeuron\n",
    "\n",
    "for i in range(1,4):\n",
    "    if (i<=3):\n",
    "        print(\"iNeuron\", end=\"\")"
   ]
  },
  {
   "cell_type": "code",
   "execution_count": null,
   "id": "6d7e21e0",
   "metadata": {},
   "outputs": [],
   "source": [
    "# For finding EVEN and ODD.\n",
    "\n",
    "num = int(input(\"Enter the number: \"))\n",
    "if (num%2 == 0):\n",
    "    print(\"Given number is Even\")\n",
    "else:\n",
    "    print(\"Given number is Odd\")"
   ]
  },
  {
   "cell_type": "markdown",
   "id": "1af68170",
   "metadata": {},
   "source": [
    "Q18. What are boolean operator?\n",
    "Ans: Boolean opertors return true or false values."
   ]
  },
  {
   "cell_type": "markdown",
   "id": "e15bb48e",
   "metadata": {},
   "source": [
    "Q20. What are conditional statements in Python?\n",
    "Ans: There are three conditional stat. in python 1.If, 2. if-else., 3. if-else-elif. (Used to handle the conditions in code)."
   ]
  },
  {
   "cell_type": "code",
   "execution_count": null,
   "id": "b55d7527",
   "metadata": {},
   "outputs": [],
   "source": [
    "# Code for voter\n",
    "\n",
    "age = int(input(\"Enter the age: \"))\n",
    "if (age >= 18):\n",
    "    print(\"I can vote\")\n",
    "if (age < 18):\n",
    "    print(\"I can't vote\")"
   ]
  },
  {
   "cell_type": "code",
   "execution_count": null,
   "id": "0b0a2d5a",
   "metadata": {},
   "outputs": [],
   "source": [
    " # Code for finding greatest of three no.\n",
    "    \n",
    "x = int(input(\"Enter x : \"))\n",
    "y = int(input(\"Enter y : \"))\n",
    "z = int(input(\"Enter z : \"))\n",
    "\n",
    "if (x > y and x>z):\n",
    "    print(\"X is greater\", x)\n",
    "elif(y>z and y>x):\n",
    "    print(\"Y is greater\", y)\n",
    "else:\n",
    "    print(\"Z is greater\", z)"
   ]
  },
  {
   "cell_type": "code",
   "execution_count": null,
   "id": "10f5a20a",
   "metadata": {},
   "outputs": [],
   "source": [
    "numbers = [12, 75, 150, 180, 145, 525, 50]\n",
    "sum = 0;\n",
    "for i in numbers:\n",
    "    if(i%2 == 0):\n",
    "        sum = sum + i;\n",
    "print(sum)"
   ]
  },
  {
   "cell_type": "code",
   "execution_count": 1,
   "id": "230f86d9",
   "metadata": {},
   "outputs": [],
   "source": [
    "numbers = [12, 75, 150, 180, 145, 525, 50];\n",
    "\n",
    "for i in numbers:\n",
    "    if(i%5 ==0):\n",
    "        if (i>150):\n",
    "            continue\n",
    "            if (i > 500):\n",
    "                break\n",
    "                print(i)"
   ]
  },
  {
   "cell_type": "code",
   "execution_count": null,
   "id": "22ecc82c",
   "metadata": {},
   "outputs": [],
   "source": []
  }
 ],
 "metadata": {
  "kernelspec": {
   "display_name": "Python 3",
   "language": "python",
   "name": "python3"
  },
  "language_info": {
   "codemirror_mode": {
    "name": "ipython",
    "version": 3
   },
   "file_extension": ".py",
   "mimetype": "text/x-python",
   "name": "python",
   "nbconvert_exporter": "python",
   "pygments_lexer": "ipython3",
   "version": "3.8.8"
  }
 },
 "nbformat": 4,
 "nbformat_minor": 5
}
