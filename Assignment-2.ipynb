{
 "cells": [
  {
   "cell_type": "markdown",
   "id": "6acdca02",
   "metadata": {},
   "source": [
    "Q28. Write a code to get the desired output of the following\n",
    "```\n",
    "string = \"Big Data iNeuron\"\n",
    "desired_output = \"iNeuron\"\n",
    "```"
   ]
  },
  {
   "cell_type": "code",
   "execution_count": 1,
   "id": "5055b2d7",
   "metadata": {},
   "outputs": [
    {
     "name": "stdout",
     "output_type": "stream",
     "text": [
      "iNeuron\n"
     ]
    }
   ],
   "source": [
    "string = \"Big Data iNeuron\"\n",
    "print(string[9:])"
   ]
  },
  {
   "cell_type": "markdown",
   "id": "9edbf9a5",
   "metadata": {},
   "source": [
    "Q30. Resverse the string given in the above question."
   ]
  },
  {
   "cell_type": "code",
   "execution_count": 2,
   "id": "69e0518f",
   "metadata": {},
   "outputs": [
    {
     "name": "stdout",
     "output_type": "stream",
     "text": [
      "norueNi ataD giB \n"
     ]
    }
   ],
   "source": [
    "string = \"Big Data iNeuron\"\n",
    "str = \" \"\n",
    "for i in string:\n",
    "    str = i + str\n",
    "    \n",
    "print(str)"
   ]
  },
  {
   "cell_type": "markdown",
   "id": "a16fc664",
   "metadata": {},
   "source": [
    "Q31. How can you delete entire string at once?\n",
    "Ans: we can assign it a new empty value(string)."
   ]
  },
  {
   "cell_type": "markdown",
   "id": "2976f620",
   "metadata": {},
   "source": [
    "Q33. How can you print the below string?\n",
    "```\n",
    "'iNeuron's Big Data Course'\n",
    "```"
   ]
  },
  {
   "cell_type": "code",
   "execution_count": 3,
   "id": "b8e33e09",
   "metadata": {},
   "outputs": [
    {
     "name": "stdout",
     "output_type": "stream",
     "text": [
      " 'iNeuron's Big Data Course\n"
     ]
    }
   ],
   "source": [
    "print(\" 'iNeuron's Big Data Course\")"
   ]
  },
  {
   "cell_type": "markdown",
   "id": "a501f8d3",
   "metadata": {},
   "source": [
    "Q34. What is a list in Python?\n",
    "Ans:List is one of the data type out of four datatypes to store collection of data."
   ]
  },
  {
   "cell_type": "markdown",
   "id": "0fc5fd04",
   "metadata": {},
   "source": [
    "Q35. How can you create a list in Python?\n",
    "Ans: list can be simply created by placing the elements inside the square bracket[]."
   ]
  },
  {
   "cell_type": "markdown",
   "id": "9ab34524",
   "metadata": {},
   "source": [
    "Q36. How can we access the elements in a list?\n",
    "Ans We can access elements in list with the help of indexing. using [], indexing start with 0."
   ]
  },
  {
   "cell_type": "markdown",
   "id": "0b30a61a",
   "metadata": {},
   "source": [
    "Q37. Write a code to access the word \"iNeuron\" from the given list.\n",
    "```\n",
    "lst = [1,2,3,\"Hi\",[45,54, \"iNeuron\"], \"Big Data\"]\n",
    "``` "
   ]
  },
  {
   "cell_type": "code",
   "execution_count": 4,
   "id": "a068c66a",
   "metadata": {},
   "outputs": [
    {
     "name": "stdout",
     "output_type": "stream",
     "text": [
      "iNeuron\n"
     ]
    }
   ],
   "source": [
    "lst = [1,2,3,\"Hi\",[45,54, \"iNeuron\"], \"Big Data\"]\n",
    "print(lst[4][2])"
   ]
  },
  {
   "cell_type": "markdown",
   "id": "b0fb32ff",
   "metadata": {},
   "source": [
    "Q38. Take a list as an input from the user and find the length of the list."
   ]
  },
  {
   "cell_type": "code",
   "execution_count": 5,
   "id": "d06a6bc0",
   "metadata": {},
   "outputs": [
    {
     "name": "stdout",
     "output_type": "stream",
     "text": [
      "Enter the length3\n"
     ]
    },
    {
     "ename": "TypeError",
     "evalue": "'builtin_function_or_method' object is not subscriptable",
     "output_type": "error",
     "traceback": [
      "\u001b[1;31m---------------------------------------------------------------------------\u001b[0m",
      "\u001b[1;31mTypeError\u001b[0m                                 Traceback (most recent call last)",
      "\u001b[1;32m<ipython-input-5-b780d3908307>\u001b[0m in \u001b[0;36m<module>\u001b[1;34m\u001b[0m\n\u001b[0;32m      2\u001b[0m \u001b[0mlst\u001b[0m \u001b[1;33m=\u001b[0m \u001b[1;33m[\u001b[0m\u001b[1;33m]\u001b[0m\u001b[1;33m\u001b[0m\u001b[1;33m\u001b[0m\u001b[0m\n\u001b[0;32m      3\u001b[0m \u001b[1;32mfor\u001b[0m \u001b[0mi\u001b[0m \u001b[1;32min\u001b[0m \u001b[0mrange\u001b[0m\u001b[1;33m(\u001b[0m\u001b[0mz\u001b[0m\u001b[1;33m)\u001b[0m\u001b[1;33m:\u001b[0m\u001b[1;33m\u001b[0m\u001b[1;33m\u001b[0m\u001b[0m\n\u001b[1;32m----> 4\u001b[1;33m     \u001b[0mlst\u001b[0m\u001b[1;33m.\u001b[0m\u001b[0mappend\u001b[0m\u001b[1;33m[\u001b[0m\u001b[0mi\u001b[0m\u001b[1;33m]\u001b[0m\u001b[1;33m\u001b[0m\u001b[1;33m\u001b[0m\u001b[0m\n\u001b[0m\u001b[0;32m      5\u001b[0m \u001b[1;33m\u001b[0m\u001b[0m\n\u001b[0;32m      6\u001b[0m \u001b[0mprint\u001b[0m\u001b[1;33m(\u001b[0m\u001b[0mlst\u001b[0m\u001b[1;33m)\u001b[0m\u001b[1;33m\u001b[0m\u001b[1;33m\u001b[0m\u001b[0m\n",
      "\u001b[1;31mTypeError\u001b[0m: 'builtin_function_or_method' object is not subscriptable"
     ]
    }
   ],
   "source": [
    "z = int(input(\"Enter the length\"))\n",
    "lst = []\n",
    "for i in range(z):\n",
    "    lst.append[i]\n",
    "    \n",
    "print(lst)\n",
    "    "
   ]
  },
  {
   "cell_type": "markdown",
   "id": "5a6e3125",
   "metadata": {},
   "source": [
    "Q39. Add the word \"Big\" in the 3rd index of the given list.\n",
    "```\n",
    "lst = [\"Welcome\", \"to\", \"Data\", \"course\"]\n",
    "```"
   ]
  },
  {
   "cell_type": "code",
   "execution_count": null,
   "id": "bfe97586",
   "metadata": {},
   "outputs": [],
   "source": [
    "lst = [\"Welcome\", \"to\", \"Data\", \"course\"]\n",
    "print(lst)"
   ]
  },
  {
   "cell_type": "code",
   "execution_count": null,
   "id": "d696e69a",
   "metadata": {},
   "outputs": [],
   "source": [
    "print(lst.insert(2,'Big'))\n",
    "print(lst)"
   ]
  },
  {
   "cell_type": "markdown",
   "id": "30dfe4cb",
   "metadata": {},
   "source": [
    "Q40. What is a tuple? How is it different from list?\n",
    "Ans:tuple is one of the data type out of four datatypes to store collection of data. tuple are immutable(cannot change values)"
   ]
  },
  {
   "cell_type": "markdown",
   "id": "3ceb094a",
   "metadata": {},
   "source": [
    "Q41. How can you create a tuple in Python?\n",
    "Ans: tuple are created by the help of square bracket(), can insert values simulteniouly creating tuple."
   ]
  },
  {
   "cell_type": "markdown",
   "id": "d1c3f26f",
   "metadata": {},
   "source": [
    "Q42. Create a tuple and try to add your name in the tuple. Are you able to do it? Support your answer with reason.\n",
    "Ans: We cannot directly add our name in tuple, for that we have to typeCast our tuple in list then by the use of (append,insert) we can add values in it."
   ]
  },
  {
   "cell_type": "markdown",
   "id": "cf173af4",
   "metadata": {},
   "source": [
    "Q43. Can two tuple be appended. If yes, write a code for it. If not, why?\n",
    "Ans: We cannot append directly two tuples, but but we can teporarily add it using below method."
   ]
  },
  {
   "cell_type": "code",
   "execution_count": null,
   "id": "e6bb85ec",
   "metadata": {},
   "outputs": [],
   "source": [
    "tuple1 = (1,2,3)\n",
    "tuple2 = (4,5,6)\n",
    "\n",
    "tuple2=tuple1 + tuple2\n",
    "# print(tuple2)\n",
    "\n",
    "print(tuple2)\n",
    "print(tuple1)"
   ]
  },
  {
   "cell_type": "markdown",
   "id": "22b8bcf6",
   "metadata": {},
   "source": [
    "Q44. Take a tuple as an input and print the count of elements in it."
   ]
  },
  {
   "cell_type": "code",
   "execution_count": null,
   "id": "43c04185",
   "metadata": {},
   "outputs": [],
   "source": [
    "x = (1,2,3,4,5)\n",
    "print(len(x))"
   ]
  },
  {
   "cell_type": "markdown",
   "id": "f8e56cbe",
   "metadata": {},
   "source": [
    "Q45. What are sets in Python?\n",
    "Ans: Set is also a datatype in python, set is collectin which is unordered, unchangable, unindexed(but we can add and remove values)"
   ]
  },
  {
   "cell_type": "markdown",
   "id": "4ace9a8a",
   "metadata": {},
   "source": [
    "Q46. How can you create a set?\n",
    "Ans: Simpli we can create set by using curly braces, but we must have to provide values, unless it would be a dictionary."
   ]
  },
  {
   "cell_type": "code",
   "execution_count": null,
   "id": "adc07f6a",
   "metadata": {},
   "outputs": [],
   "source": [
    "set1 = {}\n",
    "print(type(set1))"
   ]
  },
  {
   "cell_type": "code",
   "execution_count": null,
   "id": "82230fd9",
   "metadata": {},
   "outputs": [],
   "source": [
    "set1 = {1,2,3,'Hello',5}\n",
    "print(type(set1))"
   ]
  },
  {
   "cell_type": "markdown",
   "id": "16bdf357",
   "metadata": {},
   "source": [
    "Q47. Create a set and add \"iNeuron\" in your set."
   ]
  },
  {
   "cell_type": "markdown",
   "id": "f95aa943",
   "metadata": {},
   "source": [
    "Q52. How is frozen set different from set?\n",
    "It is immutable and it is hashable. It is also called an immutable set. Since the elements are fixed, unlike sets you can't add or remove elements from the set. "
   ]
  },
  {
   "cell_type": "markdown",
   "id": "c931552c",
   "metadata": {},
   "source": [
    "Q53. What is union() in sets? Explain via code.\n",
    "Return a set that contains all items from both sets, duplicates are excluded."
   ]
  },
  {
   "cell_type": "code",
   "execution_count": null,
   "id": "5aec83f8",
   "metadata": {},
   "outputs": [],
   "source": [
    "set1 = {1,2,3,4,5,5}\n",
    "set2 = {3,4,3,1,7,8,9}\n",
    "set3 = set1.union(set2)\n",
    "print(set3)"
   ]
  },
  {
   "cell_type": "code",
   "execution_count": null,
   "id": "428e040c",
   "metadata": {},
   "outputs": [],
   "source": [
    "Q54. What is intersection() in sets? Explain via code.\n",
    "Ans: Return a set that contains the items that exist in both set x, and set y:"
   ]
  },
  {
   "cell_type": "code",
   "execution_count": null,
   "id": "4aacbd46",
   "metadata": {},
   "outputs": [],
   "source": [
    "set1 = {1,2,3,4,5,5}\n",
    "set2 = {3,4,3,1,7,8,9}\n",
    "set3 = set1.intersection(set2)\n",
    "print(set3)"
   ]
  },
  {
   "cell_type": "markdown",
   "id": "56c57a48",
   "metadata": {},
   "source": [
    "Q55. What is dictionary ibn Python?\n",
    "Ans: It's also a data type, in values can be stored in key:value format.\n",
    "    A dictionary is a collection which is ordered*, changeable and do not allow duplicates."
   ]
  },
  {
   "cell_type": "markdown",
   "id": "e2adf5d4",
   "metadata": {},
   "source": [
    "Q58. What will the output of the following?\n",
    "var = {}\n",
    "print(type(var))"
   ]
  },
  {
   "cell_type": "code",
   "execution_count": null,
   "id": "618fd105",
   "metadata": {},
   "outputs": [],
   "source": [
    "var = {}\n",
    "print(type(var))"
   ]
  },
  {
   "cell_type": "markdown",
   "id": "a2cbcb91",
   "metadata": {},
   "source": [
    "Q59. How can we add an element in a dictionary?"
   ]
  },
  {
   "cell_type": "code",
   "execution_count": null,
   "id": "90ba6a4e",
   "metadata": {},
   "outputs": [],
   "source": [
    "dict1 = {}\n",
    "dict1['Name'] = 'Mahesh'\n",
    "dict1['Middle name'] = 'Kishor'\n",
    "dict1['last name'] = 'Chillal'\n",
    "print(dict1)"
   ]
  },
  {
   "cell_type": "code",
   "execution_count": null,
   "id": "b442820e",
   "metadata": {},
   "outputs": [],
   "source": [
    "dict1['age'] = 23\n",
    "dict1['skills'] = {'python':'intermidite', 'java':'noob'}\n",
    "print(dict1)"
   ]
  },
  {
   "cell_type": "markdown",
   "id": "5961d732",
   "metadata": {},
   "source": [
    "Q60. Create a dictionary and access all the values in that dictionary."
   ]
  },
  {
   "cell_type": "code",
   "execution_count": null,
   "id": "96ae6431",
   "metadata": {},
   "outputs": [],
   "source": [
    "print(dict1['Name'])\n",
    "print(dict1['age'])\n",
    "print(dict1['skills'])\n",
    "print(dict1['skills']['python'])"
   ]
  },
  {
   "cell_type": "code",
   "execution_count": null,
   "id": "85530027",
   "metadata": {},
   "outputs": [],
   "source": [
    "x = int(input(\"Enter a no:\"))\n",
    "fact = 1\n",
    "for i in range(1,x+1):\n",
    "    fact = fact*i;\n",
    "print(\"factorial\", fact)\n",
    "    \n",
    "    "
   ]
  },
  {
   "cell_type": "markdown",
   "id": "66d78735",
   "metadata": {},
   "source": [
    "Q77. Write a Python program to calculate the simple interest. Formula to calculate simple interest is SI = (PRT)/100"
   ]
  },
  {
   "cell_type": "code",
   "execution_count": null,
   "id": "b527ea9b",
   "metadata": {},
   "outputs": [],
   "source": [
    "def SimpleInterest (principle,rate,time):\n",
    "    print(\"Principle anount is :\",principle)\n",
    "    print(\"Interest rate is :\",rate)\n",
    "    print(\"Period of time is:\", time)\n",
    "    \n",
    "    SI = (principle*rate*time)/100\n",
    "    return SI\n",
    "\n",
    "print(\"Simple Interest is : \",SimpleInterest(65000,5,18))"
   ]
  },
  {
   "cell_type": "code",
   "execution_count": null,
   "id": "621c5ead",
   "metadata": {},
   "outputs": [],
   "source": [
    "lst = [1,2,3,4,'hi']\n",
    "print(lst)\n",
    "\n"
   ]
  },
  {
   "cell_type": "code",
   "execution_count": null,
   "id": "00c756d8",
   "metadata": {},
   "outputs": [],
   "source": [
    "add_by_lambda = lambda s,g : s + g\n",
    "a = 20\n",
    "b = 23\n",
    "print(add_by_lambda(a,b))"
   ]
  },
  {
   "cell_type": "code",
   "execution_count": null,
   "id": "893e4450",
   "metadata": {},
   "outputs": [],
   "source": [
    "#lambda fun to find out which is greater num.\n",
    "which_is_greater = lambda p,m : p if (p>m) else m\n",
    "print(which_is_greater(3,1))"
   ]
  },
  {
   "cell_type": "code",
   "execution_count": 7,
   "id": "3c35c3a8",
   "metadata": {},
   "outputs": [
    {
     "name": "stdout",
     "output_type": "stream",
     "text": [
      "<map object at 0x0000024B8AD48250>\n"
     ]
    }
   ],
   "source": [
    "def myfunc(a, b):\n",
    "  return a + b\n",
    "\n",
    "x = map(myfunc, ('apple', 'banana', 'cherry'), ('orange', 'lemon', 'pineapple'))\n",
    "print(x)"
   ]
  },
  {
   "cell_type": "code",
   "execution_count": 8,
   "id": "bc5f336d",
   "metadata": {},
   "outputs": [
    {
     "name": "stdout",
     "output_type": "stream",
     "text": [
      "[1, 2, 3, 4, 5, 6]\n"
     ]
    }
   ],
   "source": [
    "lambda_try = lambda a,b : a + b\n",
    "a = [1,2,3,4]\n",
    "b=[5,6]\n",
    "print(lambda_try(a,b))"
   ]
  },
  {
   "cell_type": "code",
   "execution_count": 6,
   "id": "b9fa39f5",
   "metadata": {},
   "outputs": [
    {
     "name": "stdout",
     "output_type": "stream",
     "text": [
      "[1, 4, 9, 16, 25, 36, 49]\n"
     ]
    }
   ],
   "source": [
    "squre_of_list = lambda x : x*x\n",
    "lst1 = [1,2,3,4,5,6,7]\n",
    "lst2 = list(map(squre_of_list,lst1))\n",
    "print(lst2)"
   ]
  },
  {
   "cell_type": "markdown",
   "id": "7686f089",
   "metadata": {},
   "source": [
    "Q79. Write a Python program to check if a number is prime or not."
   ]
  },
  {
   "cell_type": "code",
   "execution_count": 11,
   "id": "5d5d97f3",
   "metadata": {},
   "outputs": [
    {
     "data": {
      "text/plain": [
       "'even'"
      ]
     },
     "execution_count": 11,
     "metadata": {},
     "output_type": "execute_result"
    }
   ],
   "source": [
    "def evenOdd(num):\n",
    "    if num % 2 == 0:\n",
    "        return \"even\"\n",
    "    else:\n",
    "        return \"odd\"\n",
    "    \n",
    "evenOdd(4)"
   ]
  },
  {
   "cell_type": "markdown",
   "id": "ba8b4e77",
   "metadata": {},
   "source": [
    "Q80. Write a Python program to check Armstrong Number."
   ]
  },
  {
   "cell_type": "code",
   "execution_count": null,
   "id": "b54abd61",
   "metadata": {},
   "outputs": [],
   "source": [
    "def is_armstrong_number(number):\n",
    "    num_str = str(number)\n",
    "    num_digits = len(num_str)\n",
    "    armstrong_sum = sum(int(digit) ** num_digits for digit in num_str)\n",
    "    return number == armstrong_sum\n",
    "\n",
    "try:\n",
    "    num = int(input(\"Enter a number: \"))\n",
    "    if is_armstrong_number(num):\n",
    "        print(f\"{num} is an Armstrong number.\")\n",
    "    else:\n",
    "        print(f\"{num} is not an Armstrong number.\")\n",
    "except ValueError:\n",
    "    print(\"Invalid input. Please enter a valid integer.\")\n"
   ]
  },
  {
   "cell_type": "markdown",
   "id": "7f92c1c3",
   "metadata": {},
   "source": [
    "Q81. Write a Python program to find the n-th Fibonacci Number."
   ]
  },
  {
   "cell_type": "code",
   "execution_count": 14,
   "id": "5d7fc2bc",
   "metadata": {},
   "outputs": [
    {
     "name": "stdout",
     "output_type": "stream",
     "text": [
      "Enter the value of n: 7\n",
      "The 7-th Fibonacci number is: 8\n"
     ]
    }
   ],
   "source": [
    "def fibonacci_recursive(n):\n",
    "    if n <= 0:\n",
    "        return \"Invalid input. n should be a positive integer.\"\n",
    "    elif n == 1:\n",
    "        return 0\n",
    "    elif n == 2:\n",
    "        return 1\n",
    "    else:\n",
    "        return fibonacci_recursive(n - 1) + fibonacci_recursive(n - 2)\n",
    "\n",
    "n = int(input(\"Enter the value of n: \"))\n",
    "result = fibonacci_recursive(n)\n",
    "print(f\"The {n}-th Fibonacci number is: {result}\")\n"
   ]
  },
  {
   "cell_type": "markdown",
   "id": "2f2fdc88",
   "metadata": {},
   "source": [
    "Q82. Write a Python program to interchange the first and last element in a list."
   ]
  },
  {
   "cell_type": "code",
   "execution_count": 20,
   "id": "3ad1022a",
   "metadata": {},
   "outputs": [],
   "source": [
    "def swapList(sl):\n",
    "    n = len(sl)\n",
    "    \n",
    "    temp = sl[0]\n",
    "    sl[0] = sl[n -1]\n",
    "    sl[n -1] = temp\n",
    "    \n",
    "    return sl\n",
    "    "
   ]
  },
  {
   "cell_type": "code",
   "execution_count": 21,
   "id": "6ac87f7b",
   "metadata": {},
   "outputs": [
    {
     "data": {
      "text/plain": [
       "[5, 2, 3, 4, 1]"
      ]
     },
     "execution_count": 21,
     "metadata": {},
     "output_type": "execute_result"
    }
   ],
   "source": [
    "sl =[1,2,3,4,5]\n",
    "\n",
    "swapList(sl)"
   ]
  },
  {
   "cell_type": "markdown",
   "id": "b2fd70c0",
   "metadata": {},
   "source": [
    "Q84. Write a Python program to find N largest element from a list."
   ]
  },
  {
   "cell_type": "code",
   "execution_count": 1,
   "id": "f8ef17cf",
   "metadata": {},
   "outputs": [],
   "source": [
    "def N_max_elements(list, N):\n",
    "    result_list = []\n",
    "  \n",
    "    for i in range(0, N): \n",
    "        maximum = 0\n",
    "          \n",
    "        for j in range(len(list)):     \n",
    "            if list[j] > maximum:\n",
    "                maximum = list[j]\n",
    "                  \n",
    "        list.remove(maximum)\n",
    "        result_list.append(maximum)\n",
    "          \n",
    "    return result_list"
   ]
  },
  {
   "cell_type": "markdown",
   "id": "37b358ab",
   "metadata": {},
   "source": [
    "Q85. Write a Python program to find cumulative sum of a list."
   ]
  },
  {
   "cell_type": "code",
   "execution_count": 3,
   "id": "404021c0",
   "metadata": {},
   "outputs": [],
   "source": [
    "def Cumulative(lists):\n",
    "    cu_list = []\n",
    "    length = len(lists)\n",
    "    cu_list = [sum(lists[0:x:1]) for x in range(0, length+1)]\n",
    "    return cu_list[1:]"
   ]
  },
  {
   "cell_type": "code",
   "execution_count": 9,
   "id": "8613224e",
   "metadata": {},
   "outputs": [
    {
     "name": "stdout",
     "output_type": "stream",
     "text": [
      "[1, 3, 6, 10, 15]\n"
     ]
    }
   ],
   "source": [
    "lists = [1,2,3,4,5]\n",
    "print(Cumulative(lists))"
   ]
  },
  {
   "cell_type": "code",
   "execution_count": 8,
   "id": "aa189ebf",
   "metadata": {},
   "outputs": [
    {
     "name": "stdout",
     "output_type": "stream",
     "text": [
      "[10, 30, 60, 100, 150]\n"
     ]
    }
   ],
   "source": [
    "lists = [10, 20, 30, 40, 50]\n",
    "print (Cumulative(lists))"
   ]
  },
  {
   "cell_type": "markdown",
   "id": "6d3d9e52",
   "metadata": {},
   "source": [
    "Q86. Write a Python program to check if a string is palindrome or not."
   ]
  },
  {
   "cell_type": "code",
   "execution_count": null,
   "id": "836011be",
   "metadata": {},
   "outputs": [],
   "source": [
    "x = \"malayalam\"\n",
    " \n",
    "w = \"\"\n",
    "for i in x:\n",
    "    w = i + w\n",
    " \n",
    "if (x == w):\n",
    "    print(\"Yes\")\n",
    "else:\n",
    "    print(\"No\")"
   ]
  },
  {
   "cell_type": "markdown",
   "id": "0b366e16",
   "metadata": {},
   "source": [
    "Q87. Write a Python program to remove i'th element from a string."
   ]
  },
  {
   "cell_type": "code",
   "execution_count": null,
   "id": "c15e96cb",
   "metadata": {},
   "outputs": [],
   "source": [
    "def remove_char(s, i):\n",
    "    a = s[ : i]\n",
    "    b = s[i + 1: ]\n",
    "\n",
    "    return a+b\n",
    "\n",
    "string = \"Pythonisgood\"\n",
    "# Remove ith index element\n",
    "i = 5\n",
    "print(remove_char(string,i-1))"
   ]
  },
  {
   "cell_type": "markdown",
   "id": "7e0f4bfd",
   "metadata": {},
   "source": [
    "Q91. Write a Python program to merge two dictionary."
   ]
  },
  {
   "cell_type": "code",
   "execution_count": null,
   "id": "6df49b9e",
   "metadata": {},
   "outputs": [],
   "source": [
    "print(dict_1 | dict_2)"
   ]
  },
  {
   "cell_type": "markdown",
   "id": "87d5f65e",
   "metadata": {},
   "source": [
    "Q92. Write a Python program to convert a list of tuples into dictionary."
   ]
  },
  {
   "cell_type": "code",
   "execution_count": 10,
   "id": "44fbfbbf",
   "metadata": {},
   "outputs": [],
   "source": [
    "def list_of_tuples_to_dict(list_of_tuples):\n",
    "    dictionary = dict(list_of_tuples)\n",
    "    return dictionary"
   ]
  },
  {
   "cell_type": "code",
   "execution_count": 11,
   "id": "90233033",
   "metadata": {},
   "outputs": [],
   "source": [
    "input_list = [('Sachin', 10), ('MSD', 7), ('Kohli', 18), ('Rohit', 45)]"
   ]
  },
  {
   "cell_type": "code",
   "execution_count": 12,
   "id": "ce5f43fc",
   "metadata": {},
   "outputs": [
    {
     "name": "stdout",
     "output_type": "stream",
     "text": [
      "{'Sachin': 10, 'MSD': 7, 'Kohli': 18, 'Rohit': 45}\n"
     ]
    }
   ],
   "source": [
    "print(list_of_tuples_to_dict(input_list))"
   ]
  },
  {
   "cell_type": "markdown",
   "id": "9a921699",
   "metadata": {},
   "source": [
    "Q93. Write a Python program to create a list of tuples from given list having number and its cube in each tuple."
   ]
  },
  {
   "cell_type": "code",
   "execution_count": 13,
   "id": "dcbc1bc4",
   "metadata": {},
   "outputs": [],
   "source": [
    "def create_tuples_with_cubes(input_list):\n",
    "    tuples_with_cubes = [(num, num ** 3) for num in input_list]\n",
    "    return tuples_with_cubes"
   ]
  },
  {
   "cell_type": "code",
   "execution_count": 14,
   "id": "80689caf",
   "metadata": {},
   "outputs": [
    {
     "name": "stdout",
     "output_type": "stream",
     "text": [
      "[(9, 729), (5, 125), (6, 216)]\n"
     ]
    }
   ],
   "source": [
    "input_list = [9, 5, 6]\n",
    "result_list = create_tuples_with_cubes(input_list)\n",
    "print(result_list)"
   ]
  },
  {
   "cell_type": "markdown",
   "id": "19c93e42",
   "metadata": {},
   "source": [
    "Q94. Write a Python program to get all combinations of 2 tuples."
   ]
  },
  {
   "cell_type": "code",
   "execution_count": 15,
   "id": "ecb89468",
   "metadata": {},
   "outputs": [
    {
     "name": "stdout",
     "output_type": "stream",
     "text": [
      "All combinations of the two tuples:\n",
      "[(7, 7), (7, 8), (2, 7), (2, 8)]\n"
     ]
    }
   ],
   "source": [
    "import itertools\n",
    "\n",
    "def get_all_combinations(test_tuple1, test_tuple2):\n",
    "    all_combinations = list(itertools.product(test_tuple1, test_tuple2))\n",
    "    return all_combinations\n",
    "\n",
    "# Given input tuples\n",
    "test_tuple1 = (7, 2)\n",
    "test_tuple2 = (7, 8)\n",
    "\n",
    "# Get all combinations of the two tuples\n",
    "all_combinations = get_all_combinations(test_tuple1, test_tuple2)\n",
    "\n",
    "# Print the resulting list of tuples\n",
    "print(\"All combinations of the two tuples:\")\n",
    "print(all_combinations)\n"
   ]
  },
  {
   "cell_type": "markdown",
   "id": "f2375b11",
   "metadata": {},
   "source": [
    "Q96. Write a python program to print below pattern.\n",
    "* \n",
    "* * \n",
    "* * * \n",
    "* * * * \n",
    "* * * * * "
   ]
  },
  {
   "cell_type": "code",
   "execution_count": null,
   "id": "a7c7b647",
   "metadata": {},
   "outputs": [],
   "source": [
    "def print_pattern(rows):\n",
    "    for i in range(1, rows + 1):\n",
    "        for j in range(i):\n",
    "            print(\"*\", end=\" \")\n",
    "        print()"
   ]
  },
  {
   "cell_type": "markdown",
   "id": "8a3c7d68",
   "metadata": {},
   "source": [
    "    *\n",
    "   **\n",
    "  ***\n",
    " ****\n",
    "*****"
   ]
  },
  {
   "cell_type": "markdown",
   "id": "22cb9e24",
   "metadata": {},
   "source": [
    "def print_pattern(rows):\n",
    "    for i in range(1, rows + 1):\n",
    "        spaces = rows - i\n",
    "        stars = i\n",
    "        print(\" \" * spaces + \"*\" * stars)\n",
    "        \n",
    "    *\n",
    "   **\n",
    "  ***\n",
    " ****\n",
    "*****"
   ]
  },
  {
   "cell_type": "markdown",
   "id": "df3bd44d",
   "metadata": {},
   "source": [
    "    * \n",
    "   * * \n",
    "  * * * \n",
    " * * * * \n",
    "* * * * * \n",
    "\n",
    "def print_pattern(rows):\n",
    "    for i in range(1, rows + 1):\n",
    "        spaces = rows - i\n",
    "        stars = i\n",
    "        print(\" \" * spaces + \"* \" * stars)"
   ]
  },
  {
   "cell_type": "markdown",
   "id": "1de87b09",
   "metadata": {},
   "source": [
    "1 \n",
    "1 2 \n",
    "1 2 3 \n",
    "1 2 3 4 \n",
    "1 2 3 4 5\n",
    "\n",
    "def print_pattern(rows):\n",
    "    for i in range(1, rows + 1):\n",
    "        for j in range(1, i + 1):\n",
    "            print(j, end=\" \")\n",
    "        print()"
   ]
  },
  {
   "cell_type": "markdown",
   "id": "e543b4a6",
   "metadata": {},
   "source": [
    "A \n",
    "B B \n",
    "C C C \n",
    "D D D D \n",
    "E E E E E \n",
    "\n",
    "def print_pattern(rows):\n",
    "    for i in range(1, rows + 1):\n",
    "        char = chr(64 + i)\n",
    "        print((char + \" \") * i)"
   ]
  },
  {
   "cell_type": "code",
   "execution_count": null,
   "id": "bac11671",
   "metadata": {},
   "outputs": [],
   "source": []
  },
  {
   "cell_type": "code",
   "execution_count": null,
   "id": "812929a8",
   "metadata": {},
   "outputs": [],
   "source": []
  }
 ],
 "metadata": {
  "kernelspec": {
   "display_name": "Python 3",
   "language": "python",
   "name": "python3"
  },
  "language_info": {
   "codemirror_mode": {
    "name": "ipython",
    "version": 3
   },
   "file_extension": ".py",
   "mimetype": "text/x-python",
   "name": "python",
   "nbconvert_exporter": "python",
   "pygments_lexer": "ipython3",
   "version": "3.8.8"
  }
 },
 "nbformat": 4,
 "nbformat_minor": 5
}
